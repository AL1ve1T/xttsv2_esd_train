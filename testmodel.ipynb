{
 "cells": [
  {
   "cell_type": "code",
   "execution_count": 82,
   "metadata": {},
   "outputs": [],
   "source": [
    "from TTS.tts.configs.xtts_config import XttsConfig\n",
    "from TTS.tts.models.xtts import Xtts\n",
    "\n",
    "config = XttsConfig()\n",
    "config.load_json(\n",
    "    \"/Users/elnuralimirzayev/Thesis/saved_model1/training/GPT_XTTS_v2.0_LJSpeech_FT-August-01-2024_09+36PM-fc50214/config.json\"\n",
    ")\n",
    "model = Xtts.init_from_config(config)\n",
    "model.load_checkpoint(\n",
    "    config,\n",
    "    checkpoint_dir=\"/Users/elnuralimirzayev/Thesis/saved_model1/training/GPT_XTTS_v2.0_LJSpeech_FT-August-01-2024_09+36PM-fc50214\",\n",
    "    eval=True,\n",
    "    vocab_path=\"/Users/elnuralimirzayev/Thesis/notebooks/xttsv2_esd_train/vocab.json\",\n",
    ")\n",
    "model.cpu()\n",
    "\n",
    "outputs = model.synthesize(\n",
    "    \"Everything is coming together so beautifully!\",\n",
    "    config,\n",
    "    speaker_wav=\"/Users/elnuralimirzayev/Thesis/notebooks/xttsv2_esd_train/LJ001-0003.wav\",\n",
    "    gpt_cond_len=3,\n",
    "    language=\"en\",\n",
    ")\n"
   ]
  },
  {
   "cell_type": "code",
   "execution_count": 83,
   "metadata": {},
   "outputs": [],
   "source": [
    "import soundfile as sf\n",
    "\n",
    "raw_audio = outputs['wav']\n",
    "sample_rate = 24000\n",
    "output_path = \"/Users/elnuralimirzayev/Thesis/notebooks/xttsv2_esd_train/examples/exp2/default/out16_default.wav\"\n",
    "sf.write(output_path, raw_audio, sample_rate)"
   ]
  },
  {
   "cell_type": "code",
   "execution_count": 2,
   "metadata": {},
   "outputs": [
    {
     "name": "stdout",
     "output_type": "stream",
     "text": [
      " > Using model: xtts\n",
      " > Text: [angry] But though on the whole, except in Italy, Gothic letter was most often used.\n",
      " > Text splitted to sentences.\n",
      "['[angry] But though on the whole, except in Italy, Gothic letter was most often used.']\n",
      "Traceback (most recent call last):\n",
      "  File \"/Users/elnuralimirzayev/Thesis/notebooks/venv/bin/tts\", line 8, in <module>\n",
      "    sys.exit(main())\n",
      "  File \"/Users/elnuralimirzayev/Thesis/notebooks/TTS/TTS/bin/synthesize.py\", line 468, in main\n",
      "    wav = synthesizer.tts(\n",
      "  File \"/Users/elnuralimirzayev/Thesis/notebooks/TTS/TTS/utils/synthesizer.py\", line 386, in tts\n",
      "    outputs = self.tts_model.synthesize(\n",
      "  File \"/Users/elnuralimirzayev/Thesis/notebooks/TTS/TTS/tts/models/xtts.py\", line 419, in synthesize\n",
      "    return self.full_inference(text, speaker_wav, language, **settings)\n",
      "  File \"/Users/elnuralimirzayev/Thesis/notebooks/venv/lib/python3.10/site-packages/torch/utils/_contextlib.py\", line 115, in decorate_context\n",
      "    return func(*args, **kwargs)\n",
      "  File \"/Users/elnuralimirzayev/Thesis/notebooks/TTS/TTS/tts/models/xtts.py\", line 488, in full_inference\n",
      "    return self.inference(\n",
      "  File \"/Users/elnuralimirzayev/Thesis/notebooks/venv/lib/python3.10/site-packages/torch/utils/_contextlib.py\", line 115, in decorate_context\n",
      "    return func(*args, **kwargs)\n",
      "  File \"/Users/elnuralimirzayev/Thesis/notebooks/TTS/TTS/tts/models/xtts.py\", line 534, in inference\n",
      "    text_tokens = torch.IntTensor(self.tokenizer.encode(sent, lang=language)).unsqueeze(0).to(self.device)\n",
      "  File \"/Users/elnuralimirzayev/Thesis/notebooks/TTS/TTS/tts/layers/xtts/tokenizer.py\", line 653, in encode\n",
      "    return self.tokenizer.encode(txt).ids\n",
      "AttributeError: 'NoneType' object has no attribute 'encode'\n",
      "\u001b[0m"
     ]
    }
   ],
   "source": [
    "!tts --text \"[angry] But though on the whole, except in Italy, Gothic letter was most often used.\" \\\n",
    "      --model_path \"/Users/elnuralimirzayev/Thesis/saved_model1/training/GPT_XTTS_v2.0_LJSpeech_FT-August-01-2024_09+36PM-fc50214\" \\\n",
    "      --config_path \"/Users/elnuralimirzayev/Thesis/saved_model1/training/GPT_XTTS_v2.0_LJSpeech_FT-August-01-2024_09+36PM-fc50214/config.json\" \\\n",
    "      --speaker_wav \"/Users/elnuralimirzayev/Thesis/notebooks/xttsv2_esd_train/LJ001-0003.wav\" \\\n",
    "      --language_idx \"en\" \\\n",
    "      --out_path \"examples/exp2/angry/out1_angry.wav\""
   ]
  },
  {
   "cell_type": "code",
   "execution_count": 6,
   "metadata": {},
   "outputs": [
    {
     "name": "stdout",
     "output_type": "stream",
     "text": [
      " > Using model: xtts\n",
      " > Text: [HAPPY] But though on the whole, except in Italy, Gothic letter was most often used.\n",
      " > Text splitted to sentences.\n",
      "['[HAPPY] But though on the whole, except in Italy, Gothic letter was most often used.']\n",
      "Traceback (most recent call last):\n",
      "  File \"/Users/elnuralimirzayev/Thesis/notebooks/venv/bin/tts\", line 8, in <module>\n",
      "    sys.exit(main())\n",
      "  File \"/Users/elnuralimirzayev/Thesis/notebooks/TTS/TTS/bin/synthesize.py\", line 468, in main\n",
      "    wav = synthesizer.tts(\n",
      "  File \"/Users/elnuralimirzayev/Thesis/notebooks/TTS/TTS/utils/synthesizer.py\", line 386, in tts\n",
      "    outputs = self.tts_model.synthesize(\n",
      "  File \"/Users/elnuralimirzayev/Thesis/notebooks/TTS/TTS/tts/models/xtts.py\", line 419, in synthesize\n",
      "    return self.full_inference(text, speaker_wav, language, **settings)\n",
      "  File \"/Users/elnuralimirzayev/Thesis/notebooks/venv/lib/python3.10/site-packages/torch/utils/_contextlib.py\", line 115, in decorate_context\n",
      "    return func(*args, **kwargs)\n",
      "  File \"/Users/elnuralimirzayev/Thesis/notebooks/TTS/TTS/tts/models/xtts.py\", line 488, in full_inference\n",
      "    return self.inference(\n",
      "  File \"/Users/elnuralimirzayev/Thesis/notebooks/venv/lib/python3.10/site-packages/torch/utils/_contextlib.py\", line 115, in decorate_context\n",
      "    return func(*args, **kwargs)\n",
      "  File \"/Users/elnuralimirzayev/Thesis/notebooks/TTS/TTS/tts/models/xtts.py\", line 534, in inference\n",
      "    text_tokens = torch.IntTensor(self.tokenizer.encode(sent, lang=language)).unsqueeze(0).to(self.device)\n",
      "  File \"/Users/elnuralimirzayev/Thesis/notebooks/TTS/TTS/tts/layers/xtts/tokenizer.py\", line 653, in encode\n",
      "    return self.tokenizer.encode(txt).ids\n",
      "AttributeError: 'NoneType' object has no attribute 'encode'\n",
      "\u001b[0m"
     ]
    }
   ],
   "source": [
    "!tts --text \"[HAPPY] But though on the whole, except in Italy, Gothic letter was most often used.\" \\\n",
    "      --model_path \"/Users/elnuralimirzayev/Thesis/saved_model1/training/GPT_XTTS_v2.0_LJSpeech_FT-August-01-2024_09+36PM-fc50214\" \\\n",
    "      --config_path \"/Users/elnuralimirzayev/Thesis/saved_model1/training/GPT_XTTS_v2.0_LJSpeech_FT-August-01-2024_09+36PM-fc50214/config.json\" \\\n",
    "      --speaker_wav \"/Users/elnuralimirzayev/Thesis/notebooks/xttsv2_esd_train/LJ001-0003.wav\" \\\n",
    "      --language_idx \"en\" \\\n",
    "      --out_path \"examples/exp2/happy/out1_angry.wav\""
   ]
  },
  {
   "cell_type": "code",
   "execution_count": null,
   "metadata": {},
   "outputs": [],
   "source": []
  }
 ],
 "metadata": {
  "kernelspec": {
   "display_name": "venv",
   "language": "python",
   "name": "python3"
  },
  "language_info": {
   "codemirror_mode": {
    "name": "ipython",
    "version": 3
   },
   "file_extension": ".py",
   "mimetype": "text/x-python",
   "name": "python",
   "nbconvert_exporter": "python",
   "pygments_lexer": "ipython3",
   "version": "3.10.9"
  }
 },
 "nbformat": 4,
 "nbformat_minor": 2
}
